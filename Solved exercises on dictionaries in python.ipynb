{
 "cells": [
  {
   "cell_type": "code",
   "execution_count": 1,
   "id": "05b3c7b3-a915-4d2f-a303-0e69bbe52008",
   "metadata": {},
   "outputs": [
    {
     "name": "stdout",
     "output_type": "stream",
     "text": [
      "{'name': 'Aleena', 'Age': 19, 'City': 'Lahore', 'Hobbies': 'Watching movies'}\n"
     ]
    }
   ],
   "source": [
    "mydict={\n",
    "        \"name\":\"Aleena\",\n",
    "        \"Age\":19,\n",
    "        \"City\":\"Lahore\",\n",
    "        \"Hobbies\":\"Watching movies\",\n",
    "}\n",
    "print(mydict)"
   ]
  },
  {
   "cell_type": "code",
   "execution_count": 17,
   "id": "ee8aedcf-ec7e-48d8-a16c-59b4559cc454",
   "metadata": {},
   "outputs": [
    {
     "name": "stdout",
     "output_type": "stream",
     "text": [
      "{'programming': 1, 'is': 1, 'difficult': 1, 'to': 1, 'understand': 1, 'and': 1, 'you': 1, 'get': 1, 'so': 1, 'many': 1, 'errors': 1}\n"
     ]
    }
   ],
   "source": [
    "text=\"Programming is difficult to understand and you get so many errors.\"\n",
    "words=text.lower().split()\n",
    "word_count={}\n",
    "for word in words:\n",
    "    word=word.strip(\".,!\")\n",
    "    word_count[word]=word_count.get(word,0)+1\n",
    "print(word_count)"
   ]
  },
  {
   "cell_type": "code",
   "execution_count": 23,
   "id": "12e6cdd9-de38-4ca9-91a4-8ebcb457d9fc",
   "metadata": {},
   "outputs": [
    {
     "name": "stdout",
     "output_type": "stream",
     "text": [
      "Intial inventory:{'Apples': 5, 'Oranges': 7, 'Peaches': 5, 'Bananas': 8}\n",
      "AFter removing and adding items:{'Apples': 10, 'Oranges': 1, 'Peaches': 13, 'Bananas': 5}\n"
     ]
    }
   ],
   "source": [
    "inventory={\n",
    "    \"Apples\":5,\n",
    "    \"Oranges\":7,\n",
    "    \"Peaches\":5,\n",
    "    \"Bananas\":8\n",
    "}\n",
    "print(f\"Intial inventory:{inventory}\")\n",
    "inventory[\"Apples\"]+=5\n",
    "inventory[\"Peaches\"]+=8\n",
    "inventory[\"Bananas\"]-=3\n",
    "inventory[\"Oranges\"]-=6\n",
    "print(f\"AFter removing and adding items:{inventory}\")"
   ]
  },
  {
   "cell_type": "code",
   "execution_count": 29,
   "id": "b4046d4b-f932-4cb3-a9ac-65c7a6a5b3ef",
   "metadata": {},
   "outputs": [
    {
     "name": "stdout",
     "output_type": "stream",
     "text": [
      "Category Counts:{'electronics': 2, 'books': 3, 'clothing': 1}\n",
      "Most popular category:books\n"
     ]
    }
   ],
   "source": [
    "orders=[\"electronics\",\"books\",\"electronics\",\"books\",\"clothing\",\"books\"]\n",
    "category_count={}\n",
    "for category in orders:\n",
    "    if category in category_count:\n",
    "        category_count[category]+=1\n",
    "    else:\n",
    "        category_count[category]=1\n",
    "most_popular=max(category_count,key=category_count.get)\n",
    "print(f\"Category Counts:{category_count}\")\n",
    "print(f\"Most popular category:{most_popular}\")"
   ]
  },
  {
   "cell_type": "code",
   "execution_count": 33,
   "id": "7b183886-524a-4fc3-bfa4-a08cdb034c92",
   "metadata": {},
   "outputs": [
    {
     "name": "stdout",
     "output_type": "stream",
     "text": [
      "Student Grades:{'Alice': 85, 'Bob': 65, 'Charlie': 90, 'Mark': 70}\n",
      "Average Grade:77.5\n"
     ]
    }
   ],
   "source": [
    "grades={\n",
    "    \"Alice\":85,\n",
    "    \"Bob\":65,\n",
    "    \"Charlie\":90,\n",
    "    \"Mark\":70\n",
    "}\n",
    "total=0\n",
    "for grade in grades.values():\n",
    "    total+=grade\n",
    "average=total/len(grades)\n",
    "print(f\"Student Grades:{grades}\")\n",
    "print(f\"Average Grade:{average}\")"
   ]
  },
  {
   "cell_type": "code",
   "execution_count": null,
   "id": "0cea97b9-f447-4908-af16-31a24c438a36",
   "metadata": {},
   "outputs": [],
   "source": []
  }
 ],
 "metadata": {
  "kernelspec": {
   "display_name": "Python 3 (ipykernel)",
   "language": "python",
   "name": "python3"
  },
  "language_info": {
   "codemirror_mode": {
    "name": "ipython",
    "version": 3
   },
   "file_extension": ".py",
   "mimetype": "text/x-python",
   "name": "python",
   "nbconvert_exporter": "python",
   "pygments_lexer": "ipython3",
   "version": "3.12.7"
  }
 },
 "nbformat": 4,
 "nbformat_minor": 5
}
